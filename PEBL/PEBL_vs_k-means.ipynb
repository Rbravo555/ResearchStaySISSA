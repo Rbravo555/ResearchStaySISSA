{
 "cells": [
  {
   "cell_type": "markdown",
   "metadata": {
    "id": "LunWA7KrpRb2"
   },
   "source": [
    "# PEBL vs k-means\n",
    "\n"
   ]
  },
  {
   "cell_type": "code",
   "execution_count": null,
   "metadata": {
    "executionInfo": {
     "elapsed": 7,
     "status": "ok",
     "timestamp": 1634312596461,
     "user": {
      "displayName": "Pavel Ryzhakov",
      "photoUrl": "https://lh3.googleusercontent.com/a/default-user=s64",
      "userId": "15045618597794063589"
     },
     "user_tz": -120
    },
    "id": "QBis4VaXpRb7"
   },
   "outputs": [],
   "source": [
    "import numpy as np\n",
    "import os\n",
    "from matplotlib import pyplot as plt\n",
    "import sys\n",
    "sys.path.insert(0,'./DATA')\n",
    "from MeshData import fluid_mesh_data\n",
    "from sklearn.cluster import KMeans\n",
    "%matplotlib inline \n"
   ]
  },
  {
   "cell_type": "code",
   "execution_count": null,
   "metadata": {},
   "outputs": [],
   "source": [
    "#binary tree for PEBL clustering\n",
    "\n",
    "class Node:\n",
    "    def __init__(self, val):\n",
    "        self.left = None\n",
    "        self.right = None\n",
    "        self.val = val\n",
    "\n",
    "    def leaves(self):\n",
    "        current_nodes = [self]\n",
    "        leaves = []\n",
    "\n",
    "        while len(current_nodes) > 0:\n",
    "            next_nodes = []\n",
    "            for node in current_nodes:\n",
    "                if node.left is None and node.right is None:\n",
    "                    leaves.append(node)\n",
    "                    continue\n",
    "                if node.left is not None:\n",
    "                    next_nodes.append(node.left)\n",
    "                if node.right is not None:\n",
    "                    next_nodes.append(node.right)\n",
    "            current_nodes = next_nodes\n",
    "        return leaves\n",
    "\n",
    "\n",
    "#other functions\n",
    "def E_p(u, c):\n",
    "    \"\"\"\n",
    "    c: direction vector onto which to project\n",
    "    u: vector or colection of column vectors to project onto the direction of c\n",
    "    \"\"\"\n",
    "    c = c.reshape(-1,1)\n",
    "    if len(u.shape)==1:\n",
    "        u = u.reshape(-1,1)\n",
    "    projection_of_u_onto_c = ((c@c.T) / (c.T@c)) @ u\n",
    "    projection_error = np.linalg.norm(u - projection_of_u_onto_c, axis=0) / np.linalg.norm(u, axis=0)\n",
    "    return projection_error\n",
    "\n",
    "def PEBL(Snapshots, bisection_tolerance=0.15,  POD_tolerance=1e-3):\n",
    "    #stage 1, generation of bisection tree with accuracy 'bisection_tolerance'\n",
    "    max_index = np.argmax( np.linalg.norm(Snapshots, axis=0) )\n",
    "    first_snapshot = Snapshots[:,max_index]\n",
    "    Tree = Node([first_snapshot, Snapshots])\n",
    "    bisect_flag = True\n",
    "    while bisect_flag == True:\n",
    "        bisect_flag = False\n",
    "        for leave in Tree.leaves():\n",
    "            errors = E_p(leave.val[1], leave.val[0])\n",
    "            max_error = max(errors)\n",
    "            #print(max_error)\n",
    "            if max_error > bisection_tolerance:\n",
    "                bisect_flag = True\n",
    "                #find next anchor point\n",
    "                max_index = np.argmax(errors)\n",
    "                c_new = leave.val[1][:,max_index]\n",
    "                new_errors = E_p(leave.val[1], c_new)\n",
    "                indexes_left = np.where( errors <= new_errors)\n",
    "                indexes_right = np.where( errors > new_errors)\n",
    "                #divide the snapshots among the two children\n",
    "                leave.left =  Node([leave.val[0], leave.val[1][:,indexes_left[0]]])\n",
    "                leave.right = Node([c_new, leave.val[1][:,indexes_right[0]]])\n",
    "                leave.val[1] = None\n",
    "    #stage 2, generation of local POD bases'\n",
    "    for leave in Tree.leaves():\n",
    "        Phi_i = ObtainBasis(leave.val[1], POD_tolerance)\n",
    "        leave.val.append(Phi_i)\n",
    "\n",
    "    return Tree\n",
    "\n",
    "def ObtainBasis(Snapshots, truncation_tolerance=0):\n",
    "        U,_,_= truncated_svd(Snapshots,truncation_tolerance)\n",
    "        return U\n",
    "\n",
    "def truncated_svd(Matrix, epsilon=0):\n",
    "\n",
    "    M,N=np.shape(Matrix)\n",
    "    dimMATRIX = max(M,N)\n",
    "    U, s, V = np.linalg.svd(Matrix, full_matrices=False) #U --> M xN, V --> N x N\n",
    "    V = V.T\n",
    "    tol = dimMATRIX*np.finfo(float).eps*max(s)/2\n",
    "    R = np.sum(s > tol)  # Definition of numerical rank\n",
    "    if epsilon == 0:\n",
    "        K = R\n",
    "    else:\n",
    "        SingVsq = np.multiply(s,s)\n",
    "        SingVsq.sort()\n",
    "        normEf2 = np.sqrt(np.cumsum(SingVsq))\n",
    "        epsilon = epsilon*normEf2[-1] #relative tolerance\n",
    "        T = (sum(normEf2<epsilon))\n",
    "        K = len(s)-T\n",
    "    K = min(R,K)\n",
    "    return U[:, :K], s[:K], V[:, :K]\n",
    "\n"
   ]
  },
  {
   "cell_type": "code",
   "execution_count": null,
   "metadata": {},
   "outputs": [],
   "source": [
    "# functions to test k-means and PEBL on 2D data\n",
    "\n",
    "def kmeans_test(test_data):\n",
    "    plt.figure(figsize=(12, 12))\n",
    "    # Incorrect number of clusters\n",
    "    kmeans_object = KMeans(n_clusters=5).fit(test_data)\n",
    "    plt.scatter(test_data[:, 0], test_data[:, 1], c=kmeans_object.labels_)\n",
    "    centroids_to_plot = (kmeans_object.cluster_centers_).T\n",
    "    plt.scatter(centroids_to_plot[0,:], centroids_to_plot[1,:], c='r', s= 50)\n",
    "    plt.title(\"k means clustering\")\n",
    "    \n",
    "def pebl_test(test_data):\n",
    "    Tree = PEBL(test_data.T, 0.68)\n",
    "    plt.figure(figsize=(12, 12))\n",
    "    #print(len(Tree.leaves()))\n",
    "    for leaf in Tree.leaves():\n",
    "        plt.scatter(leaf.val[1][0,:], leaf.val[1][1,:])\n",
    "        plt.scatter(leaf.val[0][0], leaf.val[0][1], c='k', s= 150)\n",
    "    plt.title('PEBL clustering')"
   ]
  },
  {
   "cell_type": "code",
   "execution_count": null,
   "metadata": {},
   "outputs": [],
   "source": [
    "# test case with random data from PEBL from Amsallem\n",
    "\n",
    "test_data = np.random.rand(1000,2)\n",
    "test_data -= test_data.mean(axis = 0) #centering\n",
    "kmeans_test(test_data)\n",
    "pebl_test(test_data)"
   ]
  },
  {
   "cell_type": "markdown",
   "metadata": {},
   "source": [
    "# Clustering real data"
   ]
  },
  {
   "cell_type": "code",
   "execution_count": null,
   "metadata": {
    "executionInfo": {
     "elapsed": 7,
     "status": "ok",
     "timestamp": 1634312596462,
     "user": {
      "displayName": "Pavel Ryzhakov",
      "photoUrl": "https://lh3.googleusercontent.com/a/default-user=s64",
      "userId": "15045618597794063589"
     },
     "user_tz": -120
    },
    "id": "L-m3oIMzpRb8"
   },
   "outputs": [],
   "source": [
    "#Functions for plotting results\n",
    "nodes, eles = fluid_mesh_data()\n",
    "x, y = nodes.T\n",
    "\n",
    "def PlotFluidSnapshot(snapshot):\n",
    "    plt.figure(figsize=(10,10))\n",
    "    plt.tricontourf(x, y, eles, snapshot)\n",
    "    plt.gca().set_aspect('equal', adjustable='box')\n",
    "\n",
    "    \n"
   ]
  },
  {
   "cell_type": "markdown",
   "metadata": {
    "id": "CIcH6sNipRb8"
   },
   "source": [
    "## 2D CFD Example"
   ]
  },
  {
   "cell_type": "markdown",
   "metadata": {
    "id": "yKovWsyzpRb8"
   },
   "source": [
    "![title](./DATA/2DFluid.gif)"
   ]
  },
  {
   "cell_type": "code",
   "execution_count": null,
   "metadata": {
    "colab": {
     "base_uri": "https://localhost:8080/"
    },
    "executionInfo": {
     "elapsed": 7,
     "status": "ok",
     "timestamp": 1634312596463,
     "user": {
      "displayName": "Pavel Ryzhakov",
      "photoUrl": "https://lh3.googleusercontent.com/a/default-user=s64",
      "userId": "15045618597794063589"
     },
     "user_tz": -120
    },
    "id": "xuFtyufcpRb9",
    "outputId": "9acf4499-87ad-4979-e005-d69aae68899c"
   },
   "outputs": [],
   "source": [
    "#loading fluid mesh\n",
    "\n",
    "nodes, eles = fluid_mesh_data()\n",
    "print('shape of elements array: ', np.shape(eles))\n",
    "print('shape of nodes array: ',np.shape(nodes))"
   ]
  },
  {
   "cell_type": "code",
   "execution_count": null,
   "metadata": {
    "colab": {
     "base_uri": "https://localhost:8080/"
    },
    "executionInfo": {
     "elapsed": 5,
     "status": "ok",
     "timestamp": 1634312596463,
     "user": {
      "displayName": "Pavel Ryzhakov",
      "photoUrl": "https://lh3.googleusercontent.com/a/default-user=s64",
      "userId": "15045618597794063589"
     },
     "user_tz": -120
    },
    "id": "-Pf2JVUnpRb-",
    "outputId": "09d06e99-31e7-49ff-c18b-4327112afc39"
   },
   "outputs": [],
   "source": [
    "#loading snapshots matrix of 2D CFD example\n",
    "\n",
    "SnapshotsFluid = np.load('./DATA/snapshot_matrix.npy')\n",
    "print(f'The shape of the fluid snapshots matrix is: {SnapshotsFluid.shape}')"
   ]
  },
  {
   "cell_type": "code",
   "execution_count": null,
   "metadata": {
    "colab": {
     "base_uri": "https://localhost:8080/"
    },
    "executionInfo": {
     "elapsed": 4,
     "status": "ok",
     "timestamp": 1634312596669,
     "user": {
      "displayName": "Pavel Ryzhakov",
      "photoUrl": "https://lh3.googleusercontent.com/a/default-user=s64",
      "userId": "15045618597794063589"
     },
     "user_tz": -120
    },
    "id": "cUMaGILrpRb_",
    "outputId": "dea5ff81-a0d1-4af9-f20e-19debff9f63b"
   },
   "outputs": [],
   "source": [
    "#spliting data into x-velocity, y-velocity and pressure\n",
    "\n",
    "total_number_of_rows = SnapshotsFluid.shape[0]\n",
    "vx = SnapshotsFluid[0:total_number_of_rows:3,:]# velocity x\n",
    "vy = SnapshotsFluid[1:total_number_of_rows:3,:]# velocity y\n",
    "p = SnapshotsFluid[2:total_number_of_rows:3,:]# pressure\n",
    "\n",
    "print('x velocity nodal data size: ', np.shape(vx))\n",
    "print('y velocity nodal data size: ',np.shape(vy))\n",
    "print('pressure nodal data size: ',np.shape(p))\n"
   ]
  },
  {
   "cell_type": "code",
   "execution_count": null,
   "metadata": {
    "colab": {
     "base_uri": "https://localhost:8080/",
     "height": 311
    },
    "executionInfo": {
     "elapsed": 319,
     "status": "ok",
     "timestamp": 1634312596986,
     "user": {
      "displayName": "Pavel Ryzhakov",
      "photoUrl": "https://lh3.googleusercontent.com/a/default-user=s64",
      "userId": "15045618597794063589"
     },
     "user_tz": -120
    },
    "id": "iQ6ApUqDpRb_",
    "outputId": "3abc1493-10d6-45c6-f844-d032dfe66977"
   },
   "outputs": [],
   "source": [
    "#visualizing the data\n",
    "\n",
    "norm_of_velocity = np.sqrt(np.power(vx,2) + np.power(vy,2))\n",
    "snapshot_to_print = 250\n",
    "\n",
    "PlotFluidSnapshot(norm_of_velocity[:,snapshot_to_print])\n",
    "PlotFluidSnapshot(p[:,snapshot_to_print])\n"
   ]
  },
  {
   "cell_type": "code",
   "execution_count": null,
   "metadata": {
    "colab": {
     "base_uri": "https://localhost:8080/"
    },
    "executionInfo": {
     "elapsed": 48,
     "status": "ok",
     "timestamp": 1634312607052,
     "user": {
      "displayName": "Pavel Ryzhakov",
      "photoUrl": "https://lh3.googleusercontent.com/a/default-user=s64",
      "userId": "15045618597794063589"
     },
     "user_tz": -120
    },
    "id": "8dCv5jrxpRcB",
    "outputId": "7e66859a-870d-4c7a-9e3b-e4071837c9d5"
   },
   "outputs": [],
   "source": [
    "#create the clustering ignoring the first 150/400 snapshots\n",
    "\n",
    "Tree = PEBL(norm_of_velocity[:,150:],bisection_tolerance=0.1 )"
   ]
  },
  {
   "cell_type": "code",
   "execution_count": null,
   "metadata": {
    "colab": {
     "base_uri": "https://localhost:8080/",
     "height": 324
    },
    "executionInfo": {
     "elapsed": 41,
     "status": "ok",
     "timestamp": 1634312607053,
     "user": {
      "displayName": "Pavel Ryzhakov",
      "photoUrl": "https://lh3.googleusercontent.com/a/default-user=s64",
      "userId": "15045618597794063589"
     },
     "user_tz": -120
    },
    "id": "H49L0WR9pRcB",
    "outputId": "7aa2559a-adfd-423a-c5ce-5a1eebdf0e4b"
   },
   "outputs": [],
   "source": [
    "list_of_leaves = [leave.val for leave in Tree.leaves()]\n",
    "print(\"number of clusters created: \",len(list_of_leaves))\n"
   ]
  },
  {
   "cell_type": "code",
   "execution_count": null,
   "metadata": {
    "executionInfo": {
     "elapsed": 36,
     "status": "ok",
     "timestamp": 1634312607053,
     "user": {
      "displayName": "Pavel Ryzhakov",
      "photoUrl": "https://lh3.googleusercontent.com/a/default-user=s64",
      "userId": "15045618597794063589"
     },
     "user_tz": -120
    },
    "id": "Vvtjc0O8pRcC"
   },
   "outputs": [],
   "source": [
    "#observe the snapshots on the leaves\n",
    "\n",
    "for i in range(len(list_of_leaves)):\n",
    "    PlotFluidSnapshot(list_of_leaves[i][0])"
   ]
  },
  {
   "cell_type": "code",
   "execution_count": null,
   "metadata": {
    "colab": {
     "base_uri": "https://localhost:8080/",
     "height": 324
    },
    "executionInfo": {
     "elapsed": 36,
     "status": "ok",
     "timestamp": 1634312607054,
     "user": {
      "displayName": "Pavel Ryzhakov",
      "photoUrl": "https://lh3.googleusercontent.com/a/default-user=s64",
      "userId": "15045618597794063589"
     },
     "user_tz": -120
    },
    "id": "smS2Bi1OpRcC",
    "outputId": "e5ffd300-6abb-4625-90f3-73e59cfe0195"
   },
   "outputs": [],
   "source": [
    "#different clustering\n",
    "\n",
    "Tree = PEBL(norm_of_velocity,bisection_tolerance=0.1 )\n",
    "\n",
    "list_of_leaves = [leave.val for leave in Tree.leaves()]\n",
    "print(\"number of clusters created: \",len(list_of_leaves))\n",
    "\n",
    "#observe the snapshots on the leaves\n",
    "\n",
    "for i in range(len(list_of_leaves)):\n",
    "    PlotFluidSnapshot(list_of_leaves[i][0])\n"
   ]
  }
 ],
 "metadata": {
  "colab": {
   "collapsed_sections": [],
   "name": "SVD_ON_SIMULATION_DATA.ipynb",
   "provenance": []
  },
  "kernelspec": {
   "display_name": "Python 3",
   "language": "python",
   "name": "python3"
  },
  "language_info": {
   "codemirror_mode": {
    "name": "ipython",
    "version": 3
   },
   "file_extension": ".py",
   "mimetype": "text/x-python",
   "name": "python",
   "nbconvert_exporter": "python",
   "pygments_lexer": "ipython3",
   "version": "3.8.10"
  }
 },
 "nbformat": 4,
 "nbformat_minor": 1
}
